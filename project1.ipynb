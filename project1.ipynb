{
  "cells": [
    {
      "cell_type": "code",
      "execution_count": 1,
      "metadata": {
        "id": "_qTAqvyQP4Gm"
      },
      "outputs": [],
      "source": [
        "import torch\n",
        "import torch.nn as nn\n",
        "import torch.nn.functional as F\n",
        "import torchvision\n",
        "import torchvision.transforms as transforms\n",
        "import torch.optim as optim\n",
        "import matplotlib.pyplot as plt\n",
        "%matplotlib inline\n",
        "import torchsummary"
      ]
    },
    {
      "cell_type": "code",
      "execution_count": 2,
      "metadata": {
        "id": "7BGW4H1mQWL5"
      },
      "outputs": [],
      "source": [
        "class BasicBlock(nn.Module):\n",
        "\n",
        "    def __init__(self, in_planes, planes, stride=1):\n",
        "        super(BasicBlock, self).__init__()\n",
        "        self.conv1 = nn.Conv2d(in_planes, planes, kernel_size=3, stride=stride, padding=1, bias=False)\n",
        "        self.bn1 = nn.BatchNorm2d(planes)\n",
        "        self.conv2 = nn.Conv2d(planes, planes, kernel_size=3, stride=1, padding=1, bias=False)\n",
        "        self.bn2 = nn.BatchNorm2d(planes)\n",
        "\n",
        "        self.shortcut = nn.Sequential()\n",
        "        if stride != 1 or in_planes != planes:\n",
        "            self.shortcut = nn.Sequential(\n",
        "                nn.Conv2d(in_planes, planes, kernel_size=1, stride=stride, bias=False),\n",
        "                nn.BatchNorm2d(planes)\n",
        "            )\n",
        "\n",
        "    def forward(self, x):\n",
        "        out = F.relu(self.bn1(self.conv1(x)))\n",
        "        out = self.bn2(self.conv2(out))\n",
        "        out += self.shortcut(x)\n",
        "        out = F.relu(out)\n",
        "        return out"
      ]
    },
    {
      "cell_type": "code",
      "execution_count": 3,
      "metadata": {
        "id": "yGurXzhMRDA3"
      },
      "outputs": [],
      "source": [
        "class ResNet(nn.Module):\n",
        "    def __init__(self, block, num_blocks, num_classes=10):\n",
        "        super(ResNet, self).__init__()\n",
        "        self.in_planes = 64\n",
        "\n",
        "        self.conv1 = nn.Conv2d(3, 64, kernel_size=3, stride=1, padding=1, bias=False)\n",
        "        self.bn1 = nn.BatchNorm2d(64)\n",
        "        self.layer1 = self._make_layer(block, 64, num_blocks[0], stride=1)\n",
        "        self.layer2 = self._make_layer(block, 128, num_blocks[1], stride=2)\n",
        "        self.layer3 = self._make_layer(block, 256, num_blocks[2], stride=2)\n",
        "        self.layer4 = self._make_layer(block, 512, num_blocks[3], stride=2)  #+++++++++++++++\n",
        "        self.linear = nn.Linear(512, num_classes) #++++++++\n",
        "\n",
        "    def _make_layer(self, block, planes, num_blocks, stride):\n",
        "        strides = [stride] + [1]*(num_blocks-1) #str + str\n",
        "        layers = []\n",
        "        for stride in strides:\n",
        "            layers.append(block(self.in_planes, planes, stride))\n",
        "            self.in_planes = planes\n",
        "        print(layers)\n",
        "        return nn.Sequential(*layers)\n",
        "\n",
        "    def forward(self, x):\n",
        "        out = F.relu(self.bn1(self.conv1(x)))\n",
        "        out = self.layer1(out)\n",
        "        out = self.layer2(out)\n",
        "        out = self.layer3(out)\n",
        "        out = self.layer4(out)\n",
        "        out = F.avg_pool2d(out, 4)\n",
        "        out = out.view(out.size(0), -1)\n",
        "        out = self.linear(out)\n",
        "        return out\n",
        "\n",
        "\n"
      ]
    },
    {
      "cell_type": "code",
      "execution_count": 4,
      "metadata": {
        "id": "zSG68wODRFN-"
      },
      "outputs": [],
      "source": [
        "def project1_model():\n",
        "    return ResNet(BasicBlock, [1, 1, 1, 1]) #+++++++++++++\n",
        "\n"
      ]
    },
    {
      "cell_type": "code",
      "execution_count": 5,
      "metadata": {
        "colab": {
          "base_uri": "https://localhost:8080/",
          "height": 158,
          "referenced_widgets": [
            "6c5cfa3a6ef749fcbe91f636e4f550b9",
            "eb547b7d03124923a566dac00f2cf6d3",
            "faa8959e622d4a9099e887b397db18e8",
            "81559973e2cb4b48b62a8083213a2d8b",
            "213ebbb36b404c42afe56c57197a9b21",
            "b23a462bff2147278e51a931c42ad82e",
            "5281c9fa590941d0a32ea5f2e2d79ce3",
            "dcc3431c92cd424193c9721a09e51ee6",
            "f08c7e8060c14c50a913874bc63e1e27",
            "c5932161cfee430cb3c8bfc989892d90",
            "785545b13adb485f8f714e16363489d3"
          ]
        },
        "id": "y6GrSrQvRHBe",
        "outputId": "7124594e-93ef-4ebe-9aef-f56b76c65cbc"
      },
      "outputs": [
        {
          "output_type": "stream",
          "name": "stdout",
          "text": [
            "Downloading https://www.cs.toronto.edu/~kriz/cifar-10-python.tar.gz to ./data/cifar-10-python.tar.gz\n"
          ]
        },
        {
          "output_type": "display_data",
          "data": {
            "text/plain": [
              "  0%|          | 0/170498071 [00:00<?, ?it/s]"
            ],
            "application/vnd.jupyter.widget-view+json": {
              "version_major": 2,
              "version_minor": 0,
              "model_id": "6c5cfa3a6ef749fcbe91f636e4f550b9"
            }
          },
          "metadata": {}
        },
        {
          "output_type": "stream",
          "name": "stdout",
          "text": [
            "Extracting ./data/cifar-10-python.tar.gz to ./data\n"
          ]
        },
        {
          "output_type": "stream",
          "name": "stderr",
          "text": [
            "/usr/local/lib/python3.7/dist-packages/torch/utils/data/dataloader.py:481: UserWarning: This DataLoader will create 8 worker processes in total. Our suggested max number of worker in current system is 2, which is smaller than what this DataLoader is going to create. Please be aware that excessive worker creation might get DataLoader running slow or even freeze, lower the worker number to avoid potential slowness/freeze if necessary.\n",
            "  cpuset_checked))\n"
          ]
        },
        {
          "output_type": "stream",
          "name": "stdout",
          "text": [
            "Files already downloaded and verified\n"
          ]
        }
      ],
      "source": [
        "# Data Pretreatment\n",
        "transform_train = transforms.Compose([\n",
        "    transforms.RandomCrop(32, padding=4),  # fill the margin as 0，then cut the image in 32*32 randomly\n",
        "    transforms.RandomHorizontalFlip(),  # rotate with 50% probability\n",
        "    transforms.ToTensor(),\n",
        "    transforms.Normalize((0.4914, 0.4822, 0.4465), (0.2023, 0.1994, 0.2010)), # randomly normalize\n",
        "])\n",
        "\n",
        "transform_test = transforms.Compose([\n",
        "    transforms.ToTensor(),\n",
        "    transforms.Normalize((0.4914, 0.4822, 0.4465), (0.2023, 0.1994, 0.2010)), # same as training set\n",
        "])\n",
        "\n",
        "trainset = torchvision.datasets.CIFAR10(root='./data', train=True, download=True, transform=transform_train)\n",
        "trainloader = torch.utils.data.DataLoader(trainset, batch_size=128, shuffle=True, num_workers=8)   \n",
        "\n",
        "testset = torchvision.datasets.CIFAR10(root='./data', train=False, download=True, transform=transform_test)\n",
        "testloader = torch.utils.data.DataLoader(testset, batch_size=128, shuffle=False, num_workers=8)"
      ]
    },
    {
      "cell_type": "code",
      "execution_count": 6,
      "metadata": {
        "id": "Jw_CUW5mRJAN",
        "colab": {
          "base_uri": "https://localhost:8080/"
        },
        "outputId": "1db25bf3-12f3-4f5d-9340-75d0a1bda009"
      },
      "outputs": [
        {
          "output_type": "stream",
          "name": "stdout",
          "text": [
            "[BasicBlock(\n",
            "  (conv1): Conv2d(64, 64, kernel_size=(3, 3), stride=(1, 1), padding=(1, 1), bias=False)\n",
            "  (bn1): BatchNorm2d(64, eps=1e-05, momentum=0.1, affine=True, track_running_stats=True)\n",
            "  (conv2): Conv2d(64, 64, kernel_size=(3, 3), stride=(1, 1), padding=(1, 1), bias=False)\n",
            "  (bn2): BatchNorm2d(64, eps=1e-05, momentum=0.1, affine=True, track_running_stats=True)\n",
            "  (shortcut): Sequential()\n",
            ")]\n",
            "[BasicBlock(\n",
            "  (conv1): Conv2d(64, 128, kernel_size=(3, 3), stride=(2, 2), padding=(1, 1), bias=False)\n",
            "  (bn1): BatchNorm2d(128, eps=1e-05, momentum=0.1, affine=True, track_running_stats=True)\n",
            "  (conv2): Conv2d(128, 128, kernel_size=(3, 3), stride=(1, 1), padding=(1, 1), bias=False)\n",
            "  (bn2): BatchNorm2d(128, eps=1e-05, momentum=0.1, affine=True, track_running_stats=True)\n",
            "  (shortcut): Sequential(\n",
            "    (0): Conv2d(64, 128, kernel_size=(1, 1), stride=(2, 2), bias=False)\n",
            "    (1): BatchNorm2d(128, eps=1e-05, momentum=0.1, affine=True, track_running_stats=True)\n",
            "  )\n",
            ")]\n",
            "[BasicBlock(\n",
            "  (conv1): Conv2d(128, 256, kernel_size=(3, 3), stride=(2, 2), padding=(1, 1), bias=False)\n",
            "  (bn1): BatchNorm2d(256, eps=1e-05, momentum=0.1, affine=True, track_running_stats=True)\n",
            "  (conv2): Conv2d(256, 256, kernel_size=(3, 3), stride=(1, 1), padding=(1, 1), bias=False)\n",
            "  (bn2): BatchNorm2d(256, eps=1e-05, momentum=0.1, affine=True, track_running_stats=True)\n",
            "  (shortcut): Sequential(\n",
            "    (0): Conv2d(128, 256, kernel_size=(1, 1), stride=(2, 2), bias=False)\n",
            "    (1): BatchNorm2d(256, eps=1e-05, momentum=0.1, affine=True, track_running_stats=True)\n",
            "  )\n",
            ")]\n",
            "[BasicBlock(\n",
            "  (conv1): Conv2d(256, 512, kernel_size=(3, 3), stride=(2, 2), padding=(1, 1), bias=False)\n",
            "  (bn1): BatchNorm2d(512, eps=1e-05, momentum=0.1, affine=True, track_running_stats=True)\n",
            "  (conv2): Conv2d(512, 512, kernel_size=(3, 3), stride=(1, 1), padding=(1, 1), bias=False)\n",
            "  (bn2): BatchNorm2d(512, eps=1e-05, momentum=0.1, affine=True, track_running_stats=True)\n",
            "  (shortcut): Sequential(\n",
            "    (0): Conv2d(256, 512, kernel_size=(1, 1), stride=(2, 2), bias=False)\n",
            "    (1): BatchNorm2d(512, eps=1e-05, momentum=0.1, affine=True, track_running_stats=True)\n",
            "  )\n",
            ")]\n"
          ]
        }
      ],
      "source": [
        "#load the model\n",
        "model = project1_model()\n",
        "\n",
        "#select gpu 0, if available\n",
        "# otherwise fallback to cpu\n",
        "device = torch.device(\"cuda:0\" if torch.cuda.is_available() else \"cpu\")\n",
        "\n",
        "#transfer the model to the GPU\n",
        "model = model.to(device)\n",
        "\n",
        "#loss function\n",
        "loss_function = nn.CrossEntropyLoss()\n",
        "\n",
        "#optimizer all parameters\n",
        "optimizer = optim.Adam(model.parameters())"
      ]
    },
    {
      "cell_type": "code",
      "execution_count": 7,
      "metadata": {
        "colab": {
          "base_uri": "https://localhost:8080/"
        },
        "id": "KONTb0waCMyT",
        "outputId": "93dac417-8cf3-4c90-ac18-0e572de66ee1"
      },
      "outputs": [
        {
          "output_type": "stream",
          "name": "stdout",
          "text": [
            "----------------------------------------------------------------\n",
            "        Layer (type)               Output Shape         Param #\n",
            "================================================================\n",
            "            Conv2d-1           [-1, 64, 32, 32]           1,728\n",
            "       BatchNorm2d-2           [-1, 64, 32, 32]             128\n",
            "            Conv2d-3           [-1, 64, 32, 32]          36,864\n",
            "       BatchNorm2d-4           [-1, 64, 32, 32]             128\n",
            "            Conv2d-5           [-1, 64, 32, 32]          36,864\n",
            "       BatchNorm2d-6           [-1, 64, 32, 32]             128\n",
            "        BasicBlock-7           [-1, 64, 32, 32]               0\n",
            "            Conv2d-8          [-1, 128, 16, 16]          73,728\n",
            "       BatchNorm2d-9          [-1, 128, 16, 16]             256\n",
            "           Conv2d-10          [-1, 128, 16, 16]         147,456\n",
            "      BatchNorm2d-11          [-1, 128, 16, 16]             256\n",
            "           Conv2d-12          [-1, 128, 16, 16]           8,192\n",
            "      BatchNorm2d-13          [-1, 128, 16, 16]             256\n",
            "       BasicBlock-14          [-1, 128, 16, 16]               0\n",
            "           Conv2d-15            [-1, 256, 8, 8]         294,912\n",
            "      BatchNorm2d-16            [-1, 256, 8, 8]             512\n",
            "           Conv2d-17            [-1, 256, 8, 8]         589,824\n",
            "      BatchNorm2d-18            [-1, 256, 8, 8]             512\n",
            "           Conv2d-19            [-1, 256, 8, 8]          32,768\n",
            "      BatchNorm2d-20            [-1, 256, 8, 8]             512\n",
            "       BasicBlock-21            [-1, 256, 8, 8]               0\n",
            "           Conv2d-22            [-1, 512, 4, 4]       1,179,648\n",
            "      BatchNorm2d-23            [-1, 512, 4, 4]           1,024\n",
            "           Conv2d-24            [-1, 512, 4, 4]       2,359,296\n",
            "      BatchNorm2d-25            [-1, 512, 4, 4]           1,024\n",
            "           Conv2d-26            [-1, 512, 4, 4]         131,072\n",
            "      BatchNorm2d-27            [-1, 512, 4, 4]           1,024\n",
            "       BasicBlock-28            [-1, 512, 4, 4]               0\n",
            "           Linear-29                   [-1, 10]           5,130\n",
            "================================================================\n",
            "Total params: 4,903,242\n",
            "Trainable params: 4,903,242\n",
            "Non-trainable params: 0\n",
            "----------------------------------------------------------------\n",
            "Input size (MB): 0.01\n",
            "Forward/backward pass size (MB): 6.56\n",
            "Params size (MB): 18.70\n",
            "Estimated Total Size (MB): 25.28\n",
            "----------------------------------------------------------------\n"
          ]
        }
      ],
      "source": [
        "torchsummary.summary(model,(3,32,32))"
      ]
    },
    {
      "cell_type": "code",
      "execution_count": 8,
      "metadata": {
        "id": "c62TSZyVRLmN"
      },
      "outputs": [],
      "source": [
        "def train(model, train_loader, optimizer, epoch):\n",
        "    model.train()\n",
        "    sum_loss = 0.0\n",
        "    correct = 0.0\n",
        "    total = 0.0\n",
        "    for batch_idx, (data, target) in enumerate(train_loader):\n",
        "        data, target = data.to(device), target.to(device)\n",
        "        optimizer.zero_grad()\n",
        "        output = model(data)\n",
        "        loss = F.cross_entropy(output, target)\n",
        "        loss.backward()\n",
        "        optimizer.step()\n",
        "\n",
        "\n",
        "\n",
        "        sum_loss += loss.item()\n",
        "        _, predicted = torch.max(output.data, 1)\n",
        "        total += target.size(0)\n",
        "        correct += predicted.eq(target.data).cpu().sum()\n",
        "\n",
        "        train_loss=sum_loss / (batch_idx + 1)\n",
        "        # train_acc=100. * correct / total\n",
        "        train_acc=100. * correct / len(train_loader.dataset)\n",
        "\n",
        "        \n",
        "        if batch_idx % 100 == 0:\n",
        "            print(\"Train Epoch: {} [{}/{} ({:.0f}%)]\\tLoss: {:.6f}\".format(\n",
        "                epoch, \n",
        "                batch_idx * len(data), \n",
        "                len(train_loader.dataset), \n",
        "                100. * batch_idx / len(train_loader), \n",
        "                loss.item()))\n",
        "    return train_loss, train_acc"
      ]
    },
    {
      "cell_type": "code",
      "execution_count": 9,
      "metadata": {
        "id": "4t483FvlROS4"
      },
      "outputs": [],
      "source": [
        "def evaluate(model, test_loader):\n",
        "    model.eval()\n",
        "    test_loss = 0\n",
        "    correct = 0\n",
        "    with torch.no_grad():\n",
        "        for data, target in test_loader:\n",
        "            data, target = data.to(device), target.to(device)\n",
        "            output = model(data)\n",
        "            test_loss += F.cross_entropy(output, target, reduction = \"sum\").item()\n",
        "            prediction = output.max(1, keepdim = True)[1]\n",
        "            correct += prediction.eq(target.view_as(prediction)).sum().item()\n",
        "    \n",
        "    test_loss /= len(test_loader.dataset)\n",
        "    test_accuracy = 100. * correct / len(test_loader.dataset)\n",
        "    return test_loss, test_accuracy"
      ]
    },
    {
      "cell_type": "code",
      "execution_count": 10,
      "metadata": {
        "colab": {
          "base_uri": "https://localhost:8080/"
        },
        "id": "FWWG3EHMRQzs",
        "outputId": "385fe9ee-c0c3-4bb0-bc9f-cdab77d17f7f"
      },
      "outputs": [
        {
          "output_type": "stream",
          "name": "stderr",
          "text": [
            "/usr/local/lib/python3.7/dist-packages/torch/utils/data/dataloader.py:481: UserWarning: This DataLoader will create 8 worker processes in total. Our suggested max number of worker in current system is 2, which is smaller than what this DataLoader is going to create. Please be aware that excessive worker creation might get DataLoader running slow or even freeze, lower the worker number to avoid potential slowness/freeze if necessary.\n",
            "  cpuset_checked))\n"
          ]
        },
        {
          "output_type": "stream",
          "name": "stdout",
          "text": [
            "Train Epoch: 1 [0/50000 (0%)]\tLoss: 2.407163\n",
            "Train Epoch: 1 [12800/50000 (26%)]\tLoss: 1.615555\n",
            "Train Epoch: 1 [25600/50000 (51%)]\tLoss: 1.307109\n",
            "Train Epoch: 1 [38400/50000 (77%)]\tLoss: 0.973773\n",
            "[1] Train Loss: 1.3653, accuracy: 50.26%\n",
            "\n",
            "[1] Test Loss: 1.2436, accuracy: 56.43%\n",
            "\n",
            "Train Epoch: 2 [0/50000 (0%)]\tLoss: 0.855405\n",
            "Train Epoch: 2 [12800/50000 (26%)]\tLoss: 1.004900\n",
            "Train Epoch: 2 [25600/50000 (51%)]\tLoss: 0.905656\n",
            "Train Epoch: 2 [38400/50000 (77%)]\tLoss: 0.783766\n",
            "[2] Train Loss: 0.9328, accuracy: 66.64%\n",
            "\n",
            "[2] Test Loss: 0.8917, accuracy: 68.86%\n",
            "\n",
            "Train Epoch: 3 [0/50000 (0%)]\tLoss: 0.728716\n",
            "Train Epoch: 3 [12800/50000 (26%)]\tLoss: 0.708446\n",
            "Train Epoch: 3 [25600/50000 (51%)]\tLoss: 0.663607\n",
            "Train Epoch: 3 [38400/50000 (77%)]\tLoss: 0.846213\n",
            "[3] Train Loss: 0.7597, accuracy: 73.24%\n",
            "\n",
            "[3] Test Loss: 0.7106, accuracy: 75.45%\n",
            "\n",
            "Train Epoch: 4 [0/50000 (0%)]\tLoss: 0.559225\n",
            "Train Epoch: 4 [12800/50000 (26%)]\tLoss: 0.528940\n",
            "Train Epoch: 4 [25600/50000 (51%)]\tLoss: 0.717170\n",
            "Train Epoch: 4 [38400/50000 (77%)]\tLoss: 0.538998\n",
            "[4] Train Loss: 0.6373, accuracy: 77.83%\n",
            "\n",
            "[4] Test Loss: 0.6738, accuracy: 76.82%\n",
            "\n",
            "Train Epoch: 5 [0/50000 (0%)]\tLoss: 0.452606\n",
            "Train Epoch: 5 [12800/50000 (26%)]\tLoss: 0.594702\n",
            "Train Epoch: 5 [25600/50000 (51%)]\tLoss: 0.790675\n",
            "Train Epoch: 5 [38400/50000 (77%)]\tLoss: 0.627183\n",
            "[5] Train Loss: 0.5560, accuracy: 80.69%\n",
            "\n",
            "[5] Test Loss: 0.7330, accuracy: 76.84%\n",
            "\n",
            "Train Epoch: 6 [0/50000 (0%)]\tLoss: 0.619346\n",
            "Train Epoch: 6 [12800/50000 (26%)]\tLoss: 0.617078\n",
            "Train Epoch: 6 [25600/50000 (51%)]\tLoss: 0.644240\n",
            "Train Epoch: 6 [38400/50000 (77%)]\tLoss: 0.405313\n",
            "[6] Train Loss: 0.4965, accuracy: 82.89%\n",
            "\n",
            "[6] Test Loss: 0.5522, accuracy: 80.91%\n",
            "\n",
            "Train Epoch: 7 [0/50000 (0%)]\tLoss: 0.404370\n",
            "Train Epoch: 7 [12800/50000 (26%)]\tLoss: 0.297296\n",
            "Train Epoch: 7 [25600/50000 (51%)]\tLoss: 0.343204\n",
            "Train Epoch: 7 [38400/50000 (77%)]\tLoss: 0.466054\n",
            "[7] Train Loss: 0.4483, accuracy: 84.34%\n",
            "\n",
            "[7] Test Loss: 0.5065, accuracy: 83.41%\n",
            "\n",
            "Train Epoch: 8 [0/50000 (0%)]\tLoss: 0.426237\n",
            "Train Epoch: 8 [12800/50000 (26%)]\tLoss: 0.393360\n",
            "Train Epoch: 8 [25600/50000 (51%)]\tLoss: 0.463033\n",
            "Train Epoch: 8 [38400/50000 (77%)]\tLoss: 0.475803\n",
            "[8] Train Loss: 0.4112, accuracy: 85.81%\n",
            "\n",
            "[8] Test Loss: 0.4774, accuracy: 83.89%\n",
            "\n",
            "Train Epoch: 9 [0/50000 (0%)]\tLoss: 0.331774\n",
            "Train Epoch: 9 [12800/50000 (26%)]\tLoss: 0.345937\n",
            "Train Epoch: 9 [25600/50000 (51%)]\tLoss: 0.266285\n",
            "Train Epoch: 9 [38400/50000 (77%)]\tLoss: 0.331809\n",
            "[9] Train Loss: 0.3740, accuracy: 87.06%\n",
            "\n",
            "[9] Test Loss: 0.4501, accuracy: 84.95%\n",
            "\n",
            "Train Epoch: 10 [0/50000 (0%)]\tLoss: 0.352709\n",
            "Train Epoch: 10 [12800/50000 (26%)]\tLoss: 0.427826\n",
            "Train Epoch: 10 [25600/50000 (51%)]\tLoss: 0.436727\n",
            "Train Epoch: 10 [38400/50000 (77%)]\tLoss: 0.324377\n",
            "[10] Train Loss: 0.3463, accuracy: 87.98%\n",
            "\n",
            "[10] Test Loss: 0.4559, accuracy: 85.08%\n",
            "\n",
            "Train Epoch: 11 [0/50000 (0%)]\tLoss: 0.220175\n",
            "Train Epoch: 11 [12800/50000 (26%)]\tLoss: 0.298646\n",
            "Train Epoch: 11 [25600/50000 (51%)]\tLoss: 0.339190\n",
            "Train Epoch: 11 [38400/50000 (77%)]\tLoss: 0.300219\n",
            "[11] Train Loss: 0.3227, accuracy: 88.69%\n",
            "\n",
            "[11] Test Loss: 0.4475, accuracy: 85.22%\n",
            "\n",
            "Train Epoch: 12 [0/50000 (0%)]\tLoss: 0.378621\n",
            "Train Epoch: 12 [12800/50000 (26%)]\tLoss: 0.345899\n",
            "Train Epoch: 12 [25600/50000 (51%)]\tLoss: 0.312274\n",
            "Train Epoch: 12 [38400/50000 (77%)]\tLoss: 0.236721\n",
            "[12] Train Loss: 0.2997, accuracy: 89.51%\n",
            "\n",
            "[12] Test Loss: 0.4302, accuracy: 85.79%\n",
            "\n",
            "Train Epoch: 13 [0/50000 (0%)]\tLoss: 0.213271\n",
            "Train Epoch: 13 [12800/50000 (26%)]\tLoss: 0.179641\n",
            "Train Epoch: 13 [25600/50000 (51%)]\tLoss: 0.215781\n",
            "Train Epoch: 13 [38400/50000 (77%)]\tLoss: 0.241497\n",
            "[13] Train Loss: 0.2792, accuracy: 90.13%\n",
            "\n",
            "[13] Test Loss: 0.4426, accuracy: 86.04%\n",
            "\n",
            "Train Epoch: 14 [0/50000 (0%)]\tLoss: 0.324887\n",
            "Train Epoch: 14 [12800/50000 (26%)]\tLoss: 0.248150\n",
            "Train Epoch: 14 [25600/50000 (51%)]\tLoss: 0.227252\n",
            "Train Epoch: 14 [38400/50000 (77%)]\tLoss: 0.211570\n",
            "[14] Train Loss: 0.2596, accuracy: 90.88%\n",
            "\n",
            "[14] Test Loss: 0.3838, accuracy: 87.66%\n",
            "\n",
            "Train Epoch: 15 [0/50000 (0%)]\tLoss: 0.287843\n",
            "Train Epoch: 15 [12800/50000 (26%)]\tLoss: 0.161919\n",
            "Train Epoch: 15 [25600/50000 (51%)]\tLoss: 0.234498\n",
            "Train Epoch: 15 [38400/50000 (77%)]\tLoss: 0.238322\n",
            "[15] Train Loss: 0.2422, accuracy: 91.46%\n",
            "\n",
            "[15] Test Loss: 0.4218, accuracy: 87.00%\n",
            "\n",
            "Train Epoch: 16 [0/50000 (0%)]\tLoss: 0.183948\n",
            "Train Epoch: 16 [12800/50000 (26%)]\tLoss: 0.210471\n",
            "Train Epoch: 16 [25600/50000 (51%)]\tLoss: 0.265688\n",
            "Train Epoch: 16 [38400/50000 (77%)]\tLoss: 0.164313\n",
            "[16] Train Loss: 0.2266, accuracy: 92.06%\n",
            "\n",
            "[16] Test Loss: 0.4289, accuracy: 87.23%\n",
            "\n",
            "Train Epoch: 17 [0/50000 (0%)]\tLoss: 0.258711\n",
            "Train Epoch: 17 [12800/50000 (26%)]\tLoss: 0.121804\n",
            "Train Epoch: 17 [25600/50000 (51%)]\tLoss: 0.137020\n",
            "Train Epoch: 17 [38400/50000 (77%)]\tLoss: 0.211956\n",
            "[17] Train Loss: 0.2125, accuracy: 92.53%\n",
            "\n",
            "[17] Test Loss: 0.3754, accuracy: 88.31%\n",
            "\n",
            "Train Epoch: 18 [0/50000 (0%)]\tLoss: 0.223617\n",
            "Train Epoch: 18 [12800/50000 (26%)]\tLoss: 0.184357\n",
            "Train Epoch: 18 [25600/50000 (51%)]\tLoss: 0.097607\n",
            "Train Epoch: 18 [38400/50000 (77%)]\tLoss: 0.165989\n",
            "[18] Train Loss: 0.2012, accuracy: 92.93%\n",
            "\n",
            "[18] Test Loss: 0.4474, accuracy: 87.17%\n",
            "\n",
            "Train Epoch: 19 [0/50000 (0%)]\tLoss: 0.192520\n",
            "Train Epoch: 19 [12800/50000 (26%)]\tLoss: 0.159204\n",
            "Train Epoch: 19 [25600/50000 (51%)]\tLoss: 0.152188\n",
            "Train Epoch: 19 [38400/50000 (77%)]\tLoss: 0.266981\n",
            "[19] Train Loss: 0.1858, accuracy: 93.42%\n",
            "\n",
            "[19] Test Loss: 0.3635, accuracy: 89.56%\n",
            "\n",
            "Train Epoch: 20 [0/50000 (0%)]\tLoss: 0.136179\n",
            "Train Epoch: 20 [12800/50000 (26%)]\tLoss: 0.166169\n",
            "Train Epoch: 20 [25600/50000 (51%)]\tLoss: 0.072850\n",
            "Train Epoch: 20 [38400/50000 (77%)]\tLoss: 0.340777\n",
            "[20] Train Loss: 0.1740, accuracy: 93.81%\n",
            "\n",
            "[20] Test Loss: 0.3786, accuracy: 89.00%\n",
            "\n",
            "Train Epoch: 21 [0/50000 (0%)]\tLoss: 0.092123\n",
            "Train Epoch: 21 [12800/50000 (26%)]\tLoss: 0.114322\n",
            "Train Epoch: 21 [25600/50000 (51%)]\tLoss: 0.203269\n",
            "Train Epoch: 21 [38400/50000 (77%)]\tLoss: 0.123822\n",
            "[21] Train Loss: 0.1652, accuracy: 94.19%\n",
            "\n",
            "[21] Test Loss: 0.3990, accuracy: 88.58%\n",
            "\n",
            "Train Epoch: 22 [0/50000 (0%)]\tLoss: 0.198321\n",
            "Train Epoch: 22 [12800/50000 (26%)]\tLoss: 0.089926\n",
            "Train Epoch: 22 [25600/50000 (51%)]\tLoss: 0.110906\n",
            "Train Epoch: 22 [38400/50000 (77%)]\tLoss: 0.281790\n",
            "[22] Train Loss: 0.1603, accuracy: 94.37%\n",
            "\n",
            "[22] Test Loss: 0.3584, accuracy: 89.54%\n",
            "\n",
            "Train Epoch: 23 [0/50000 (0%)]\tLoss: 0.162952\n",
            "Train Epoch: 23 [12800/50000 (26%)]\tLoss: 0.129166\n",
            "Train Epoch: 23 [25600/50000 (51%)]\tLoss: 0.065421\n",
            "Train Epoch: 23 [38400/50000 (77%)]\tLoss: 0.245762\n",
            "[23] Train Loss: 0.1455, accuracy: 94.94%\n",
            "\n",
            "[23] Test Loss: 0.3694, accuracy: 89.28%\n",
            "\n",
            "Train Epoch: 24 [0/50000 (0%)]\tLoss: 0.182890\n",
            "Train Epoch: 24 [12800/50000 (26%)]\tLoss: 0.080867\n",
            "Train Epoch: 24 [25600/50000 (51%)]\tLoss: 0.082513\n",
            "Train Epoch: 24 [38400/50000 (77%)]\tLoss: 0.086508\n",
            "[24] Train Loss: 0.1396, accuracy: 95.05%\n",
            "\n",
            "[24] Test Loss: 0.3766, accuracy: 89.52%\n",
            "\n",
            "Train Epoch: 25 [0/50000 (0%)]\tLoss: 0.168151\n",
            "Train Epoch: 25 [12800/50000 (26%)]\tLoss: 0.097928\n",
            "Train Epoch: 25 [25600/50000 (51%)]\tLoss: 0.184720\n",
            "Train Epoch: 25 [38400/50000 (77%)]\tLoss: 0.101813\n",
            "[25] Train Loss: 0.1274, accuracy: 95.52%\n",
            "\n",
            "[25] Test Loss: 0.4174, accuracy: 89.24%\n",
            "\n",
            "Train Epoch: 26 [0/50000 (0%)]\tLoss: 0.160660\n",
            "Train Epoch: 26 [12800/50000 (26%)]\tLoss: 0.074177\n",
            "Train Epoch: 26 [25600/50000 (51%)]\tLoss: 0.106806\n",
            "Train Epoch: 26 [38400/50000 (77%)]\tLoss: 0.082293\n",
            "[26] Train Loss: 0.1228, accuracy: 95.71%\n",
            "\n",
            "[26] Test Loss: 0.4736, accuracy: 88.26%\n",
            "\n",
            "Train Epoch: 27 [0/50000 (0%)]\tLoss: 0.103219\n",
            "Train Epoch: 27 [12800/50000 (26%)]\tLoss: 0.095187\n",
            "Train Epoch: 27 [25600/50000 (51%)]\tLoss: 0.105082\n",
            "Train Epoch: 27 [38400/50000 (77%)]\tLoss: 0.092201\n",
            "[27] Train Loss: 0.1169, accuracy: 95.90%\n",
            "\n",
            "[27] Test Loss: 0.3959, accuracy: 89.99%\n",
            "\n",
            "Train Epoch: 28 [0/50000 (0%)]\tLoss: 0.058689\n",
            "Train Epoch: 28 [12800/50000 (26%)]\tLoss: 0.067528\n",
            "Train Epoch: 28 [25600/50000 (51%)]\tLoss: 0.159421\n",
            "Train Epoch: 28 [38400/50000 (77%)]\tLoss: 0.111319\n",
            "[28] Train Loss: 0.1092, accuracy: 96.17%\n",
            "\n",
            "[28] Test Loss: 0.4142, accuracy: 89.51%\n",
            "\n",
            "Train Epoch: 29 [0/50000 (0%)]\tLoss: 0.113697\n",
            "Train Epoch: 29 [12800/50000 (26%)]\tLoss: 0.047188\n",
            "Train Epoch: 29 [25600/50000 (51%)]\tLoss: 0.128705\n",
            "Train Epoch: 29 [38400/50000 (77%)]\tLoss: 0.014206\n",
            "[29] Train Loss: 0.1041, accuracy: 96.18%\n",
            "\n",
            "[29] Test Loss: 0.3847, accuracy: 90.21%\n",
            "\n",
            "Train Epoch: 30 [0/50000 (0%)]\tLoss: 0.085281\n",
            "Train Epoch: 30 [12800/50000 (26%)]\tLoss: 0.057247\n",
            "Train Epoch: 30 [25600/50000 (51%)]\tLoss: 0.134675\n",
            "Train Epoch: 30 [38400/50000 (77%)]\tLoss: 0.098327\n",
            "[30] Train Loss: 0.0995, accuracy: 96.54%\n",
            "\n",
            "[30] Test Loss: 0.4207, accuracy: 89.64%\n",
            "\n",
            "Train Epoch: 31 [0/50000 (0%)]\tLoss: 0.077623\n",
            "Train Epoch: 31 [12800/50000 (26%)]\tLoss: 0.033965\n",
            "Train Epoch: 31 [25600/50000 (51%)]\tLoss: 0.082991\n",
            "Train Epoch: 31 [38400/50000 (77%)]\tLoss: 0.132562\n",
            "[31] Train Loss: 0.0896, accuracy: 96.74%\n",
            "\n",
            "[31] Test Loss: 0.3998, accuracy: 90.50%\n",
            "\n",
            "Train Epoch: 32 [0/50000 (0%)]\tLoss: 0.094308\n",
            "Train Epoch: 32 [12800/50000 (26%)]\tLoss: 0.084562\n",
            "Train Epoch: 32 [25600/50000 (51%)]\tLoss: 0.165993\n",
            "Train Epoch: 32 [38400/50000 (77%)]\tLoss: 0.126572\n",
            "[32] Train Loss: 0.0883, accuracy: 96.83%\n",
            "\n",
            "[32] Test Loss: 0.4114, accuracy: 89.89%\n",
            "\n",
            "Train Epoch: 33 [0/50000 (0%)]\tLoss: 0.089791\n",
            "Train Epoch: 33 [12800/50000 (26%)]\tLoss: 0.089025\n",
            "Train Epoch: 33 [25600/50000 (51%)]\tLoss: 0.051334\n",
            "Train Epoch: 33 [38400/50000 (77%)]\tLoss: 0.141140\n",
            "[33] Train Loss: 0.0876, accuracy: 96.93%\n",
            "\n",
            "[33] Test Loss: 0.4239, accuracy: 89.59%\n",
            "\n",
            "Train Epoch: 34 [0/50000 (0%)]\tLoss: 0.081918\n",
            "Train Epoch: 34 [12800/50000 (26%)]\tLoss: 0.137228\n",
            "Train Epoch: 34 [25600/50000 (51%)]\tLoss: 0.052549\n",
            "Train Epoch: 34 [38400/50000 (77%)]\tLoss: 0.078462\n",
            "[34] Train Loss: 0.0846, accuracy: 96.93%\n",
            "\n",
            "[34] Test Loss: 0.4150, accuracy: 90.37%\n",
            "\n",
            "Train Epoch: 35 [0/50000 (0%)]\tLoss: 0.045862\n",
            "Train Epoch: 35 [12800/50000 (26%)]\tLoss: 0.121144\n",
            "Train Epoch: 35 [25600/50000 (51%)]\tLoss: 0.139095\n",
            "Train Epoch: 35 [38400/50000 (77%)]\tLoss: 0.075008\n",
            "[35] Train Loss: 0.0776, accuracy: 97.23%\n",
            "\n",
            "[35] Test Loss: 0.4035, accuracy: 89.81%\n",
            "\n",
            "Train Epoch: 36 [0/50000 (0%)]\tLoss: 0.083391\n",
            "Train Epoch: 36 [12800/50000 (26%)]\tLoss: 0.072041\n",
            "Train Epoch: 36 [25600/50000 (51%)]\tLoss: 0.071117\n",
            "Train Epoch: 36 [38400/50000 (77%)]\tLoss: 0.061316\n",
            "[36] Train Loss: 0.0743, accuracy: 97.43%\n",
            "\n",
            "[36] Test Loss: 0.4518, accuracy: 89.43%\n",
            "\n",
            "Train Epoch: 37 [0/50000 (0%)]\tLoss: 0.106730\n",
            "Train Epoch: 37 [12800/50000 (26%)]\tLoss: 0.053718\n",
            "Train Epoch: 37 [25600/50000 (51%)]\tLoss: 0.047347\n",
            "Train Epoch: 37 [38400/50000 (77%)]\tLoss: 0.087470\n",
            "[37] Train Loss: 0.0718, accuracy: 97.45%\n",
            "\n",
            "[37] Test Loss: 0.4315, accuracy: 90.07%\n",
            "\n",
            "Train Epoch: 38 [0/50000 (0%)]\tLoss: 0.052853\n",
            "Train Epoch: 38 [12800/50000 (26%)]\tLoss: 0.075723\n",
            "Train Epoch: 38 [25600/50000 (51%)]\tLoss: 0.038343\n",
            "Train Epoch: 38 [38400/50000 (77%)]\tLoss: 0.044115\n",
            "[38] Train Loss: 0.0703, accuracy: 97.44%\n",
            "\n",
            "[38] Test Loss: 0.4044, accuracy: 91.04%\n",
            "\n",
            "Train Epoch: 39 [0/50000 (0%)]\tLoss: 0.037884\n",
            "Train Epoch: 39 [12800/50000 (26%)]\tLoss: 0.110727\n",
            "Train Epoch: 39 [25600/50000 (51%)]\tLoss: 0.061285\n",
            "Train Epoch: 39 [38400/50000 (77%)]\tLoss: 0.033762\n",
            "[39] Train Loss: 0.0658, accuracy: 97.71%\n",
            "\n",
            "[39] Test Loss: 0.4317, accuracy: 90.60%\n",
            "\n",
            "Train Epoch: 40 [0/50000 (0%)]\tLoss: 0.033203\n",
            "Train Epoch: 40 [12800/50000 (26%)]\tLoss: 0.065992\n",
            "Train Epoch: 40 [25600/50000 (51%)]\tLoss: 0.073308\n",
            "Train Epoch: 40 [38400/50000 (77%)]\tLoss: 0.139570\n",
            "[40] Train Loss: 0.0604, accuracy: 97.90%\n",
            "\n",
            "[40] Test Loss: 0.4385, accuracy: 90.23%\n",
            "\n",
            "Train Epoch: 41 [0/50000 (0%)]\tLoss: 0.074547\n",
            "Train Epoch: 41 [12800/50000 (26%)]\tLoss: 0.032071\n",
            "Train Epoch: 41 [25600/50000 (51%)]\tLoss: 0.125544\n",
            "Train Epoch: 41 [38400/50000 (77%)]\tLoss: 0.048771\n",
            "[41] Train Loss: 0.0640, accuracy: 97.68%\n",
            "\n",
            "[41] Test Loss: 0.4671, accuracy: 89.91%\n",
            "\n",
            "Train Epoch: 42 [0/50000 (0%)]\tLoss: 0.052756\n",
            "Train Epoch: 42 [12800/50000 (26%)]\tLoss: 0.022335\n",
            "Train Epoch: 42 [25600/50000 (51%)]\tLoss: 0.034104\n",
            "Train Epoch: 42 [38400/50000 (77%)]\tLoss: 0.088746\n",
            "[42] Train Loss: 0.0604, accuracy: 97.84%\n",
            "\n",
            "[42] Test Loss: 0.4464, accuracy: 90.46%\n",
            "\n",
            "Train Epoch: 43 [0/50000 (0%)]\tLoss: 0.030429\n",
            "Train Epoch: 43 [12800/50000 (26%)]\tLoss: 0.039503\n",
            "Train Epoch: 43 [25600/50000 (51%)]\tLoss: 0.034017\n",
            "Train Epoch: 43 [38400/50000 (77%)]\tLoss: 0.014144\n",
            "[43] Train Loss: 0.0552, accuracy: 98.10%\n",
            "\n",
            "[43] Test Loss: 0.4583, accuracy: 90.47%\n",
            "\n",
            "Train Epoch: 44 [0/50000 (0%)]\tLoss: 0.035628\n",
            "Train Epoch: 44 [12800/50000 (26%)]\tLoss: 0.049173\n",
            "Train Epoch: 44 [25600/50000 (51%)]\tLoss: 0.015202\n",
            "Train Epoch: 44 [38400/50000 (77%)]\tLoss: 0.064852\n",
            "[44] Train Loss: 0.0575, accuracy: 97.97%\n",
            "\n",
            "[44] Test Loss: 0.4479, accuracy: 90.31%\n",
            "\n",
            "Train Epoch: 45 [0/50000 (0%)]\tLoss: 0.021348\n",
            "Train Epoch: 45 [12800/50000 (26%)]\tLoss: 0.069138\n",
            "Train Epoch: 45 [25600/50000 (51%)]\tLoss: 0.111279\n",
            "Train Epoch: 45 [38400/50000 (77%)]\tLoss: 0.114718\n",
            "[45] Train Loss: 0.0560, accuracy: 98.01%\n",
            "\n",
            "[45] Test Loss: 0.4598, accuracy: 90.18%\n",
            "\n",
            "Train Epoch: 46 [0/50000 (0%)]\tLoss: 0.052691\n",
            "Train Epoch: 46 [12800/50000 (26%)]\tLoss: 0.055700\n",
            "Train Epoch: 46 [25600/50000 (51%)]\tLoss: 0.045464\n",
            "Train Epoch: 46 [38400/50000 (77%)]\tLoss: 0.142737\n",
            "[46] Train Loss: 0.0563, accuracy: 98.09%\n",
            "\n",
            "[46] Test Loss: 0.4612, accuracy: 90.54%\n",
            "\n",
            "Train Epoch: 47 [0/50000 (0%)]\tLoss: 0.050460\n",
            "Train Epoch: 47 [12800/50000 (26%)]\tLoss: 0.041809\n",
            "Train Epoch: 47 [25600/50000 (51%)]\tLoss: 0.091712\n",
            "Train Epoch: 47 [38400/50000 (77%)]\tLoss: 0.052712\n",
            "[47] Train Loss: 0.0512, accuracy: 98.16%\n",
            "\n",
            "[47] Test Loss: 0.4573, accuracy: 90.68%\n",
            "\n",
            "Train Epoch: 48 [0/50000 (0%)]\tLoss: 0.039049\n",
            "Train Epoch: 48 [12800/50000 (26%)]\tLoss: 0.016854\n",
            "Train Epoch: 48 [25600/50000 (51%)]\tLoss: 0.020010\n",
            "Train Epoch: 48 [38400/50000 (77%)]\tLoss: 0.042273\n",
            "[48] Train Loss: 0.0466, accuracy: 98.38%\n",
            "\n",
            "[48] Test Loss: 0.4591, accuracy: 90.47%\n",
            "\n",
            "Train Epoch: 49 [0/50000 (0%)]\tLoss: 0.049507\n",
            "Train Epoch: 49 [12800/50000 (26%)]\tLoss: 0.048442\n",
            "Train Epoch: 49 [25600/50000 (51%)]\tLoss: 0.048712\n",
            "Train Epoch: 49 [38400/50000 (77%)]\tLoss: 0.008364\n",
            "[49] Train Loss: 0.0501, accuracy: 98.24%\n",
            "\n",
            "[49] Test Loss: 0.4245, accuracy: 90.95%\n",
            "\n",
            "Train Epoch: 50 [0/50000 (0%)]\tLoss: 0.027107\n",
            "Train Epoch: 50 [12800/50000 (26%)]\tLoss: 0.007416\n",
            "Train Epoch: 50 [25600/50000 (51%)]\tLoss: 0.020512\n",
            "Train Epoch: 50 [38400/50000 (77%)]\tLoss: 0.035547\n",
            "[50] Train Loss: 0.0442, accuracy: 98.38%\n",
            "\n",
            "[50] Test Loss: 0.4456, accuracy: 90.84%\n",
            "\n"
          ]
        }
      ],
      "source": [
        "train_loss_history = []##+++++\n",
        "train_accuracy_history = []##++++\n",
        "test_loss_history = []\n",
        "test_accuracy_history = []\n",
        "\n",
        "EPOCHS = 50\n",
        "for epoch in range(1, EPOCHS + 1):\n",
        "    train_loss, train_accuracy = train(model, trainloader, optimizer, epoch)#+++\n",
        "    test_loss, test_accuracy = evaluate(model, testloader)\n",
        "    train_loss_history.append(train_loss)#++\n",
        "    test_loss_history.append(test_loss)\n",
        "    train_accuracy_history.append(train_accuracy)#++\n",
        "    test_accuracy_history.append(test_accuracy)\n",
        "    print(\"[{}] Train Loss: {:.4f}, accuracy: {:.2f}%\\n\".format(epoch, train_loss, train_accuracy))#++\n",
        "    print(\"[{}] Test Loss: {:.4f}, accuracy: {:.2f}%\\n\".format(epoch, test_loss, test_accuracy))"
      ]
    },
    {
      "cell_type": "code",
      "execution_count": 11,
      "metadata": {
        "colab": {
          "base_uri": "https://localhost:8080/"
        },
        "id": "bFFRexb1qoLM",
        "outputId": "c7ac6804-10b1-4b4f-ea2a-6a97824374a2"
      },
      "outputs": [
        {
          "output_type": "stream",
          "name": "stdout",
          "text": [
            "0.044199471078489136 tensor(98.3760)\n"
          ]
        }
      ],
      "source": [
        "print(train_loss,train_accuracy)"
      ]
    },
    {
      "cell_type": "code",
      "execution_count": 12,
      "metadata": {
        "colab": {
          "base_uri": "https://localhost:8080/"
        },
        "id": "LgDGE0JSRSnd",
        "outputId": "5be6a18b-3c9e-4d52-b9d6-55cb3f90a22a"
      },
      "outputs": [
        {
          "output_type": "stream",
          "name": "stdout",
          "text": [
            "0.4456373604774475 90.84\n"
          ]
        }
      ],
      "source": [
        "print(test_loss,test_accuracy)"
      ]
    },
    {
      "cell_type": "code",
      "execution_count": 13,
      "metadata": {
        "colab": {
          "base_uri": "https://localhost:8080/",
          "height": 297
        },
        "id": "qm1hKIs7q1mJ",
        "outputId": "7fde8723-69b7-4e87-f19a-255fbd3321b1"
      },
      "outputs": [
        {
          "output_type": "execute_result",
          "data": {
            "text/plain": [
              "<matplotlib.legend.Legend at 0x7fd82e7c4590>"
            ]
          },
          "metadata": {},
          "execution_count": 13
        },
        {
          "output_type": "display_data",
          "data": {
            "text/plain": [
              "<Figure size 432x288 with 1 Axes>"
            ],
            "image/png": "[encoded data removed]"
          },
          "metadata": {
            "needs_background": "light"
          }
        }
      ],
      "source": [
        "plt.plot(range(50),train_loss_history,'-',linewidth=3,label='train loss')\n",
        "# plt.plot(range(2),test_accuracy_history,'-',linewidth=3,label='Test acc')\n",
        "plt.xlabel('epoch')\n",
        "plt.ylabel('loss')\n",
        "plt.grid(True)\n",
        "plt.legend()"
      ]
    },
    {
      "cell_type": "code",
      "execution_count": 14,
      "metadata": {
        "colab": {
          "base_uri": "https://localhost:8080/",
          "height": 297
        },
        "id": "Mhl7ytJmU7bi",
        "outputId": "e9c698d5-d7a8-4630-f1c8-54a7a426f79c"
      },
      "outputs": [
        {
          "output_type": "execute_result",
          "data": {
            "text/plain": [
              "<matplotlib.legend.Legend at 0x7fd82e7c4b90>"
            ]
          },
          "metadata": {},
          "execution_count": 14
        },
        {
          "output_type": "display_data",
          "data": {
            "text/plain": [
              "<Figure size 432x288 with 1 Axes>"
            ],
            "image/png": "[encoded data removed]"
          },
          "metadata": {
            "needs_background": "light"
          }
        }
      ],
      "source": [
        "plt.plot(range(50),test_loss_history,'-',linewidth=3,label='test loss')\n",
        "# plt.plot(range(2),test_accuracy_history,'-',linewidth=3,label='Test acc')\n",
        "plt.xlabel('epoch')\n",
        "plt.ylabel('loss')\n",
        "plt.grid(True)\n",
        "plt.legend()"
      ]
    },
    {
      "cell_type": "code",
      "execution_count": 15,
      "metadata": {
        "colab": {
          "base_uri": "https://localhost:8080/",
          "height": 298
        },
        "id": "oYCLYkh7q-UJ",
        "outputId": "07f22f1e-810a-4595-9d8f-ca37ad504921"
      },
      "outputs": [
        {
          "output_type": "execute_result",
          "data": {
            "text/plain": [
              "<matplotlib.legend.Legend at 0x7fd828f6b790>"
            ]
          },
          "metadata": {},
          "execution_count": 15
        },
        {
          "output_type": "display_data",
          "data": {
            "text/plain": [
              "<Figure size 432x288 with 1 Axes>"
            ],
            "image/png": "[encoded data removed]"
          },
          "metadata": {
            "needs_background": "light"
          }
        }
      ],
      "source": [
        "plt.plot(range(50),train_accuracy_history,'-',linewidth=3,label='Train acc')\n",
        "plt.xlabel('epoch')\n",
        "plt.ylabel('loss')\n",
        "plt.grid(True)\n",
        "plt.legend()"
      ]
    },
    {
      "cell_type": "code",
      "execution_count": 16,
      "metadata": {
        "colab": {
          "base_uri": "https://localhost:8080/",
          "height": 297
        },
        "id": "ipVyXNwqVCDD",
        "outputId": "f076c695-4a32-47ad-8690-5b22f1c48e68"
      },
      "outputs": [
        {
          "output_type": "execute_result",
          "data": {
            "text/plain": [
              "<matplotlib.legend.Legend at 0x7fd82bb08c90>"
            ]
          },
          "metadata": {},
          "execution_count": 16
        },
        {
          "output_type": "display_data",
          "data": {
            "text/plain": [
              "<Figure size 432x288 with 1 Axes>"
            ],
            "image/png": "[encoded data removed]"
          },
          "metadata": {
            "needs_background": "light"
          }
        }
      ],
      "source": [
        "# plt.plot(range(2),test_loss_history,'-',linewidth=3,label='test loss')\n",
        "plt.plot(range(50),test_accuracy_history,'-',linewidth=3,label='Test acc')\n",
        "plt.xlabel('epoch')\n",
        "plt.ylabel('loss')\n",
        "plt.grid(True)\n",
        "plt.legend()"
      ]
    },
    {
      "cell_type": "code",
      "execution_count": 17,
      "metadata": {
        "colab": {
          "base_uri": "https://localhost:8080/"
        },
        "id": "hG3mRj9sVpF9",
        "outputId": "a57f06c2-1869-4ee6-8c22-8cf2e3dab664"
      },
      "outputs": [
        {
          "output_type": "stream",
          "name": "stdout",
          "text": [
            "4903242\n"
          ]
        }
      ],
      "source": [
        "def count_parameters(model):\n",
        "    return sum(p.numel() for p in model.parameters() if p.requires_grad)\n",
        "    # torch.numel() returns number of elements in a tensor\n",
        "\n",
        "print(count_parameters(model))"
      ]
    },
    {
      "cell_type": "code",
      "execution_count": 18,
      "metadata": {
        "colab": {
          "base_uri": "https://localhost:8080/"
        },
        "id": "PWd8OvIKY5jL",
        "outputId": "945ca147-7ec5-4caa-fa31-10ff9d4f4195"
      },
      "outputs": [
        {
          "output_type": "stream",
          "name": "stdout",
          "text": [
            "ResNet(\n",
            "  (conv1): Conv2d(3, 64, kernel_size=(3, 3), stride=(1, 1), padding=(1, 1), bias=False)\n",
            "  (bn1): BatchNorm2d(64, eps=1e-05, momentum=0.1, affine=True, track_running_stats=True)\n",
            "  (layer1): Sequential(\n",
            "    (0): BasicBlock(\n",
            "      (conv1): Conv2d(64, 64, kernel_size=(3, 3), stride=(1, 1), padding=(1, 1), bias=False)\n",
            "      (bn1): BatchNorm2d(64, eps=1e-05, momentum=0.1, affine=True, track_running_stats=True)\n",
            "      (conv2): Conv2d(64, 64, kernel_size=(3, 3), stride=(1, 1), padding=(1, 1), bias=False)\n",
            "      (bn2): BatchNorm2d(64, eps=1e-05, momentum=0.1, affine=True, track_running_stats=True)\n",
            "      (shortcut): Sequential()\n",
            "    )\n",
            "  )\n",
            "  (layer2): Sequential(\n",
            "    (0): BasicBlock(\n",
            "      (conv1): Conv2d(64, 128, kernel_size=(3, 3), stride=(2, 2), padding=(1, 1), bias=False)\n",
            "      (bn1): BatchNorm2d(128, eps=1e-05, momentum=0.1, affine=True, track_running_stats=True)\n",
            "      (conv2): Conv2d(128, 128, kernel_size=(3, 3), stride=(1, 1), padding=(1, 1), bias=False)\n",
            "      (bn2): BatchNorm2d(128, eps=1e-05, momentum=0.1, affine=True, track_running_stats=True)\n",
            "      (shortcut): Sequential(\n",
            "        (0): Conv2d(64, 128, kernel_size=(1, 1), stride=(2, 2), bias=False)\n",
            "        (1): BatchNorm2d(128, eps=1e-05, momentum=0.1, affine=True, track_running_stats=True)\n",
            "      )\n",
            "    )\n",
            "  )\n",
            "  (layer3): Sequential(\n",
            "    (0): BasicBlock(\n",
            "      (conv1): Conv2d(128, 256, kernel_size=(3, 3), stride=(2, 2), padding=(1, 1), bias=False)\n",
            "      (bn1): BatchNorm2d(256, eps=1e-05, momentum=0.1, affine=True, track_running_stats=True)\n",
            "      (conv2): Conv2d(256, 256, kernel_size=(3, 3), stride=(1, 1), padding=(1, 1), bias=False)\n",
            "      (bn2): BatchNorm2d(256, eps=1e-05, momentum=0.1, affine=True, track_running_stats=True)\n",
            "      (shortcut): Sequential(\n",
            "        (0): Conv2d(128, 256, kernel_size=(1, 1), stride=(2, 2), bias=False)\n",
            "        (1): BatchNorm2d(256, eps=1e-05, momentum=0.1, affine=True, track_running_stats=True)\n",
            "      )\n",
            "    )\n",
            "  )\n",
            "  (layer4): Sequential(\n",
            "    (0): BasicBlock(\n",
            "      (conv1): Conv2d(256, 512, kernel_size=(3, 3), stride=(2, 2), padding=(1, 1), bias=False)\n",
            "      (bn1): BatchNorm2d(512, eps=1e-05, momentum=0.1, affine=True, track_running_stats=True)\n",
            "      (conv2): Conv2d(512, 512, kernel_size=(3, 3), stride=(1, 1), padding=(1, 1), bias=False)\n",
            "      (bn2): BatchNorm2d(512, eps=1e-05, momentum=0.1, affine=True, track_running_stats=True)\n",
            "      (shortcut): Sequential(\n",
            "        (0): Conv2d(256, 512, kernel_size=(1, 1), stride=(2, 2), bias=False)\n",
            "        (1): BatchNorm2d(512, eps=1e-05, momentum=0.1, affine=True, track_running_stats=True)\n",
            "      )\n",
            "    )\n",
            "  )\n",
            "  (linear): Linear(in_features=512, out_features=10, bias=True)\n",
            ")\n"
          ]
        }
      ],
      "source": [
        "print(model)"
      ]
    },
    {
      "cell_type": "code",
      "execution_count": 19,
      "metadata": {
        "id": "XoVxD4LIFCOg"
      },
      "outputs": [],
      "source": [
        "model_path = './project1_model.pt'\n",
        "torch.save(model.state_dict(), model_path)"
      ]
    },
    {
      "cell_type": "code",
      "execution_count": null,
      "metadata": {
        "id": "VgdPIsacT2eM"
      },
      "outputs": [],
      "source": [
        ""
      ]
    }
  ],
  "metadata": {
    "accelerator": "GPU",
    "colab": {
      "collapsed_sections": [],
      "name": "Copy of resnet18 (1).ipynb",
      "provenance": []
    },
    "kernelspec": {
      "display_name": "Python 3",
      "name": "python3"
    },
    "language_info": {
      "name": "python"
    },
    "widgets": {
      "application/vnd.jupyter.widget-state+json": {
        "6c5cfa3a6ef749fcbe91f636e4f550b9": {
          "model_module": "@jupyter-widgets/controls",
          "model_name": "HBoxModel",
          "model_module_version": "1.5.0",
          "state": {
            "_dom_classes": [],
            "_model_module": "@jupyter-widgets/controls",
            "_model_module_version": "1.5.0",
            "_model_name": "HBoxModel",
            "_view_count": null,
            "_view_module": "@jupyter-widgets/controls",
            "_view_module_version": "1.5.0",
            "_view_name": "HBoxView",
            "box_style": "",
            "children": [
              "IPY_MODEL_eb547b7d03124923a566dac00f2cf6d3",
              "IPY_MODEL_faa8959e622d4a9099e887b397db18e8",
              "IPY_MODEL_81559973e2cb4b48b62a8083213a2d8b"
            ],
            "layout": "IPY_MODEL_213ebbb36b404c42afe56c57197a9b21"
          }
        },
        "eb547b7d03124923a566dac00f2cf6d3": {
          "model_module": "@jupyter-widgets/controls",
          "model_name": "HTMLModel",
          "model_module_version": "1.5.0",
          "state": {
            "_dom_classes": [],
            "_model_module": "@jupyter-widgets/controls",
            "_model_module_version": "1.5.0",
            "_model_name": "HTMLModel",
            "_view_count": null,
            "_view_module": "@jupyter-widgets/controls",
            "_view_module_version": "1.5.0",
            "_view_name": "HTMLView",
            "description": "",
            "description_tooltip": null,
            "layout": "IPY_MODEL_b23a462bff2147278e51a931c42ad82e",
            "placeholder": "​",
            "style": "IPY_MODEL_5281c9fa590941d0a32ea5f2e2d79ce3",
            "value": ""
          }
        },
        "faa8959e622d4a9099e887b397db18e8": {
          "model_module": "@jupyter-widgets/controls",
          "model_name": "FloatProgressModel",
          "model_module_version": "1.5.0",
          "state": {
            "_dom_classes": [],
            "_model_module": "@jupyter-widgets/controls",
            "_model_module_version": "1.5.0",
            "_model_name": "FloatProgressModel",
            "_view_count": null,
            "_view_module": "@jupyter-widgets/controls",
            "_view_module_version": "1.5.0",
            "_view_name": "ProgressView",
            "bar_style": "success",
            "description": "",
            "description_tooltip": null,
            "layout": "IPY_MODEL_dcc3431c92cd424193c9721a09e51ee6",
            "max": 170498071,
            "min": 0,
            "orientation": "horizontal",
            "style": "IPY_MODEL_f08c7e8060c14c50a913874bc63e1e27",
            "value": 170498071
          }
        },
        "81559973e2cb4b48b62a8083213a2d8b": {
          "model_module": "@jupyter-widgets/controls",
          "model_name": "HTMLModel",
          "model_module_version": "1.5.0",
          "state": {
            "_dom_classes": [],
            "_model_module": "@jupyter-widgets/controls",
            "_model_module_version": "1.5.0",
            "_model_name": "HTMLModel",
            "_view_count": null,
            "_view_module": "@jupyter-widgets/controls",
            "_view_module_version": "1.5.0",
            "_view_name": "HTMLView",
            "description": "",
            "description_tooltip": null,
            "layout": "IPY_MODEL_c5932161cfee430cb3c8bfc989892d90",
            "placeholder": "​",
            "style": "IPY_MODEL_785545b13adb485f8f714e16363489d3",
            "value": " 170499072/? [00:05&lt;00:00, 31039585.87it/s]"
          }
        },
        "213ebbb36b404c42afe56c57197a9b21": {
          "model_module": "@jupyter-widgets/base",
          "model_name": "LayoutModel",
          "model_module_version": "1.2.0",
          "state": {
            "_model_module": "@jupyter-widgets/base",
            "_model_module_version": "1.2.0",
            "_model_name": "LayoutModel",
            "_view_count": null,
            "_view_module": "@jupyter-widgets/base",
            "_view_module_version": "1.2.0",
            "_view_name": "LayoutView",
            "align_content": null,
            "align_items": null,
            "align_self": null,
            "border": null,
            "bottom": null,
            "display": null,
            "flex": null,
            "flex_flow": null,
            "grid_area": null,
            "grid_auto_columns": null,
            "grid_auto_flow": null,
            "grid_auto_rows": null,
            "grid_column": null,
            "grid_gap": null,
            "grid_row": null,
            "grid_template_areas": null,
            "grid_template_columns": null,
            "grid_template_rows": null,
            "height": null,
            "justify_content": null,
            "justify_items": null,
            "left": null,
            "margin": null,
            "max_height": null,
            "max_width": null,
            "min_height": null,
            "min_width": null,
            "object_fit": null,
            "object_position": null,
            "order": null,
            "overflow": null,
            "overflow_x": null,
            "overflow_y": null,
            "padding": null,
            "right": null,
            "top": null,
            "visibility": null,
            "width": null
          }
        },
        "b23a462bff2147278e51a931c42ad82e": {
          "model_module": "@jupyter-widgets/base",
          "model_name": "LayoutModel",
          "model_module_version": "1.2.0",
          "state": {
            "_model_module": "@jupyter-widgets/base",
            "_model_module_version": "1.2.0",
            "_model_name": "LayoutModel",
            "_view_count": null,
            "_view_module": "@jupyter-widgets/base",
            "_view_module_version": "1.2.0",
            "_view_name": "LayoutView",
            "align_content": null,
            "align_items": null,
            "align_self": null,
            "border": null,
            "bottom": null,
            "display": null,
            "flex": null,
            "flex_flow": null,
            "grid_area": null,
            "grid_auto_columns": null,
            "grid_auto_flow": null,
            "grid_auto_rows": null,
            "grid_column": null,
            "grid_gap": null,
            "grid_row": null,
            "grid_template_areas": null,
            "grid_template_columns": null,
            "grid_template_rows": null,
            "height": null,
            "justify_content": null,
            "justify_items": null,
            "left": null,
            "margin": null,
            "max_height": null,
            "max_width": null,
            "min_height": null,
            "min_width": null,
            "object_fit": null,
            "object_position": null,
            "order": null,
            "overflow": null,
            "overflow_x": null,
            "overflow_y": null,
            "padding": null,
            "right": null,
            "top": null,
            "visibility": null,
            "width": null
          }
        },
        "5281c9fa590941d0a32ea5f2e2d79ce3": {
          "model_module": "@jupyter-widgets/controls",
          "model_name": "DescriptionStyleModel",
          "model_module_version": "1.5.0",
          "state": {
            "_model_module": "@jupyter-widgets/controls",
            "_model_module_version": "1.5.0",
            "_model_name": "DescriptionStyleModel",
            "_view_count": null,
            "_view_module": "@jupyter-widgets/base",
            "_view_module_version": "1.2.0",
            "_view_name": "StyleView",
            "description_width": ""
          }
        },
        "dcc3431c92cd424193c9721a09e51ee6": {
          "model_module": "@jupyter-widgets/base",
          "model_name": "LayoutModel",
          "model_module_version": "1.2.0",
          "state": {
            "_model_module": "@jupyter-widgets/base",
            "_model_module_version": "1.2.0",
            "_model_name": "LayoutModel",
            "_view_count": null,
            "_view_module": "@jupyter-widgets/base",
            "_view_module_version": "1.2.0",
            "_view_name": "LayoutView",
            "align_content": null,
            "align_items": null,
            "align_self": null,
            "border": null,
            "bottom": null,
            "display": null,
            "flex": null,
            "flex_flow": null,
            "grid_area": null,
            "grid_auto_columns": null,
            "grid_auto_flow": null,
            "grid_auto_rows": null,
            "grid_column": null,
            "grid_gap": null,
            "grid_row": null,
            "grid_template_areas": null,
            "grid_template_columns": null,
            "grid_template_rows": null,
            "height": null,
            "justify_content": null,
            "justify_items": null,
            "left": null,
            "margin": null,
            "max_height": null,
            "max_width": null,
            "min_height": null,
            "min_width": null,
            "object_fit": null,
            "object_position": null,
            "order": null,
            "overflow": null,
            "overflow_x": null,
            "overflow_y": null,
            "padding": null,
            "right": null,
            "top": null,
            "visibility": null,
            "width": null
          }
        },
        "f08c7e8060c14c50a913874bc63e1e27": {
          "model_module": "@jupyter-widgets/controls",
          "model_name": "ProgressStyleModel",
          "model_module_version": "1.5.0",
          "state": {
            "_model_module": "@jupyter-widgets/controls",
            "_model_module_version": "1.5.0",
            "_model_name": "ProgressStyleModel",
            "_view_count": null,
            "_view_module": "@jupyter-widgets/base",
            "_view_module_version": "1.2.0",
            "_view_name": "StyleView",
            "bar_color": null,
            "description_width": ""
          }
        },
        "c5932161cfee430cb3c8bfc989892d90": {
          "model_module": "@jupyter-widgets/base",
          "model_name": "LayoutModel",
          "model_module_version": "1.2.0",
          "state": {
            "_model_module": "@jupyter-widgets/base",
            "_model_module_version": "1.2.0",
            "_model_name": "LayoutModel",
            "_view_count": null,
            "_view_module": "@jupyter-widgets/base",
            "_view_module_version": "1.2.0",
            "_view_name": "LayoutView",
            "align_content": null,
            "align_items": null,
            "align_self": null,
            "border": null,
            "bottom": null,
            "display": null,
            "flex": null,
            "flex_flow": null,
            "grid_area": null,
            "grid_auto_columns": null,
            "grid_auto_flow": null,
            "grid_auto_rows": null,
            "grid_column": null,
            "grid_gap": null,
            "grid_row": null,
            "grid_template_areas": null,
            "grid_template_columns": null,
            "grid_template_rows": null,
            "height": null,
            "justify_content": null,
            "justify_items": null,
            "left": null,
            "margin": null,
            "max_height": null,
            "max_width": null,
            "min_height": null,
            "min_width": null,
            "object_fit": null,
            "object_position": null,
            "order": null,
            "overflow": null,
            "overflow_x": null,
            "overflow_y": null,
            "padding": null,
            "right": null,
            "top": null,
            "visibility": null,
            "width": null
          }
        },
        "785545b13adb485f8f714e16363489d3": {
          "model_module": "@jupyter-widgets/controls",
          "model_name": "DescriptionStyleModel",
          "model_module_version": "1.5.0",
          "state": {
            "_model_module": "@jupyter-widgets/controls",
            "_model_module_version": "1.5.0",
            "_model_name": "DescriptionStyleModel",
            "_view_count": null,
            "_view_module": "@jupyter-widgets/base",
            "_view_module_version": "1.2.0",
            "_view_name": "StyleView",
            "description_width": ""
          }
        }
      }
    }
  },
  "nbformat": 4,
  "nbformat_minor": 0
}